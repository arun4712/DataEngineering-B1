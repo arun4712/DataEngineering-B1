{
 "cells": [
  {
   "cell_type": "markdown",
   "id": "18cf750d",
   "metadata": {},
   "source": [
    "## Function Continued"
   ]
  },
  {
   "cell_type": "markdown",
   "id": "d0349ff0",
   "metadata": {},
   "source": [
    "#### Variable Length Argument"
   ]
  },
  {
   "cell_type": "code",
   "execution_count": 8,
   "id": "23133217",
   "metadata": {},
   "outputs": [],
   "source": [
    "def addition(*a):\n",
    "    sum=0\n",
    "    for i in a:\n",
    "        sum=sum+i\n",
    "    print(\"the total sum is:\",sum)    \n",
    "    "
   ]
  },
  {
   "cell_type": "code",
   "execution_count": null,
   "id": "b97810a5",
   "metadata": {},
   "outputs": [],
   "source": [
    "def addition(*a):\n",
    "    sum=0\n",
    "    for i in a:\n",
    "        sum=sum+i\n",
    "    print(\"the total sum is:\",sum)    "
   ]
  },
  {
   "cell_type": "code",
   "execution_count": 9,
   "id": "e49cab15",
   "metadata": {},
   "outputs": [
    {
     "name": "stdout",
     "output_type": "stream",
     "text": [
      "the total sum is: 8\n"
     ]
    }
   ],
   "source": [
    "addition(3,5)"
   ]
  },
  {
   "cell_type": "code",
   "execution_count": 10,
   "id": "6d62f525",
   "metadata": {},
   "outputs": [
    {
     "name": "stdout",
     "output_type": "stream",
     "text": [
      "the total sum is: 39\n"
     ]
    }
   ],
   "source": [
    "addition(3,5,8,23)"
   ]
  },
  {
   "cell_type": "code",
   "execution_count": 11,
   "id": "947e6497",
   "metadata": {},
   "outputs": [],
   "source": [
    "def addition(*a):\n",
    "    sum=0\n",
    "    for i in a:\n",
    "        sum=sum+i\n",
    "        print(\"the total sum is:\",sum)  "
   ]
  },
  {
   "cell_type": "code",
   "execution_count": 12,
   "id": "623dfed5",
   "metadata": {},
   "outputs": [
    {
     "name": "stdout",
     "output_type": "stream",
     "text": [
      "the total sum is: 3\n",
      "the total sum is: 8\n",
      "the total sum is: 16\n",
      "the total sum is: 39\n"
     ]
    }
   ],
   "source": [
    "addition(3,5,8,23)"
   ]
  },
  {
   "cell_type": "code",
   "execution_count": 13,
   "id": "622c5d58",
   "metadata": {},
   "outputs": [],
   "source": [
    "def addition(*a):\n",
    "    sum=0\n",
    "    for i in a:\n",
    "        sum=sum+i\n",
    "    print(\"the total sum is:\",sum) "
   ]
  },
  {
   "cell_type": "code",
   "execution_count": 14,
   "id": "741d2a8b",
   "metadata": {},
   "outputs": [
    {
     "name": "stdout",
     "output_type": "stream",
     "text": [
      "the total sum is: 39\n"
     ]
    }
   ],
   "source": [
    "addition(3,5,8,23)"
   ]
  },
  {
   "cell_type": "code",
   "execution_count": null,
   "id": "4acdfbd5",
   "metadata": {},
   "outputs": [],
   "source": [
    "def addition(*a):\n",
    "    print(a)"
   ]
  },
  {
   "cell_type": "code",
   "execution_count": 21,
   "id": "ca476d65",
   "metadata": {},
   "outputs": [],
   "source": [
    "def func(*a,b):\n",
    "    for i in a: 1,2,3,4,50\n",
    "        print(i)\n",
    "    print(b)    "
   ]
  },
  {
   "cell_type": "code",
   "execution_count": 25,
   "id": "6009ef8c",
   "metadata": {},
   "outputs": [
    {
     "name": "stdout",
     "output_type": "stream",
     "text": [
      "1\n",
      "2\n",
      "3\n",
      "4\n",
      "50\n",
      "100\n"
     ]
    }
   ],
   "source": [
    "func(1,2,3,4,50,b=100)"
   ]
  },
  {
   "cell_type": "code",
   "execution_count": 31,
   "id": "da3de878",
   "metadata": {},
   "outputs": [],
   "source": [
    "#Global Variables\n",
    "#Local Variables\n",
    "a=10\n",
    "def func1():\n",
    "    print(a)"
   ]
  },
  {
   "cell_type": "code",
   "execution_count": 32,
   "id": "395dbe68",
   "metadata": {},
   "outputs": [
    {
     "name": "stdout",
     "output_type": "stream",
     "text": [
      "10\n"
     ]
    }
   ],
   "source": [
    "func1()"
   ]
  },
  {
   "cell_type": "code",
   "execution_count": 33,
   "id": "febc22e5",
   "metadata": {},
   "outputs": [],
   "source": [
    "def func2():\n",
    "    a=5\n",
    "    print(a)"
   ]
  },
  {
   "cell_type": "code",
   "execution_count": 34,
   "id": "0f3f478e",
   "metadata": {},
   "outputs": [
    {
     "name": "stdout",
     "output_type": "stream",
     "text": [
      "5\n"
     ]
    }
   ],
   "source": [
    "func2()"
   ]
  },
  {
   "cell_type": "code",
   "execution_count": 40,
   "id": "0cc7ae3e",
   "metadata": {},
   "outputs": [],
   "source": [
    "a=10 #global variable\n",
    "def func3():\n",
    "    a=5  #local variable\n",
    "    print(a)"
   ]
  },
  {
   "cell_type": "code",
   "execution_count": 41,
   "id": "bab3f594",
   "metadata": {},
   "outputs": [
    {
     "name": "stdout",
     "output_type": "stream",
     "text": [
      "5\n"
     ]
    }
   ],
   "source": [
    "func3()"
   ]
  },
  {
   "cell_type": "code",
   "execution_count": 42,
   "id": "0dad7179",
   "metadata": {},
   "outputs": [
    {
     "name": "stdout",
     "output_type": "stream",
     "text": [
      "10\n"
     ]
    }
   ],
   "source": [
    "a=10 #global variable\n",
    "def func3():\n",
    "    a=5  #local variable\n",
    "print(a)"
   ]
  },
  {
   "cell_type": "code",
   "execution_count": 46,
   "id": "d1afeb55",
   "metadata": {},
   "outputs": [],
   "source": [
    "a=10 #global variable\n",
    "def func4():\n",
    "    a=5   #local variable\n",
    "    c=11   #local variable\n",
    "   \n",
    "    print(a)\n",
    "    print(c)"
   ]
  },
  {
   "cell_type": "code",
   "execution_count": 47,
   "id": "40484bea",
   "metadata": {},
   "outputs": [
    {
     "name": "stdout",
     "output_type": "stream",
     "text": [
      "5\n",
      "11\n"
     ]
    }
   ],
   "source": [
    "func4()"
   ]
  },
  {
   "cell_type": "code",
   "execution_count": 49,
   "id": "ae6bca74",
   "metadata": {},
   "outputs": [],
   "source": [
    "a=10 #global variable\n",
    "def func5():\n",
    "    a=5  #local variable\n",
    "    print(a)\n",
    "    \n",
    "def func6():\n",
    "    print(a)"
   ]
  },
  {
   "cell_type": "code",
   "execution_count": 50,
   "id": "ac2c326a",
   "metadata": {},
   "outputs": [
    {
     "name": "stdout",
     "output_type": "stream",
     "text": [
      "5\n"
     ]
    }
   ],
   "source": [
    "func5()"
   ]
  },
  {
   "cell_type": "code",
   "execution_count": 51,
   "id": "1e32cab3",
   "metadata": {},
   "outputs": [
    {
     "name": "stdout",
     "output_type": "stream",
     "text": [
      "10\n"
     ]
    }
   ],
   "source": [
    "func6()"
   ]
  },
  {
   "cell_type": "code",
   "execution_count": 52,
   "id": "e9b77918",
   "metadata": {},
   "outputs": [],
   "source": [
    "a=10 #global variable\n",
    "def func7():\n",
    "    global a  #global keyword is used to convert local variable into global variable\n",
    "    a=5  #local variable\n",
    "    print(a)\n",
    "    \n",
    "def func8():\n",
    "    print(a)"
   ]
  },
  {
   "cell_type": "code",
   "execution_count": 53,
   "id": "50a6fe51",
   "metadata": {},
   "outputs": [
    {
     "name": "stdout",
     "output_type": "stream",
     "text": [
      "5\n"
     ]
    }
   ],
   "source": [
    "func7()"
   ]
  },
  {
   "cell_type": "code",
   "execution_count": 54,
   "id": "5c378b36",
   "metadata": {},
   "outputs": [
    {
     "name": "stdout",
     "output_type": "stream",
     "text": [
      "5\n"
     ]
    }
   ],
   "source": [
    "func8()"
   ]
  },
  {
   "cell_type": "code",
   "execution_count": 55,
   "id": "bfc4c327",
   "metadata": {},
   "outputs": [
    {
     "name": "stdout",
     "output_type": "stream",
     "text": [
      "98\n"
     ]
    }
   ],
   "source": [
    "x=98\n",
    "print(x)"
   ]
  },
  {
   "cell_type": "code",
   "execution_count": 56,
   "id": "b0ba9606",
   "metadata": {},
   "outputs": [
    {
     "name": "stdout",
     "output_type": "stream",
     "text": [
      "45\n"
     ]
    }
   ],
   "source": [
    "x=45\n",
    "print(x)"
   ]
  },
  {
   "cell_type": "code",
   "execution_count": 61,
   "id": "e161b091",
   "metadata": {},
   "outputs": [],
   "source": [
    "a=5\n",
    "def func9():\n",
    "    a=2\n",
    "    print(a)\n",
    "    print(globals()['a'])  # to access global variable inside the function if we have variable of same name inside the function\n",
    "    "
   ]
  },
  {
   "cell_type": "code",
   "execution_count": 62,
   "id": "c25c9ef4",
   "metadata": {},
   "outputs": [
    {
     "name": "stdout",
     "output_type": "stream",
     "text": [
      "2\n",
      "5\n"
     ]
    }
   ],
   "source": [
    "func9()"
   ]
  },
  {
   "cell_type": "code",
   "execution_count": 64,
   "id": "2d6ac67b",
   "metadata": {},
   "outputs": [],
   "source": [
    "a=5\n",
    "def func10():\n",
    "    b=2\n",
    "    print(a)\n",
    "    print(b)"
   ]
  },
  {
   "cell_type": "code",
   "execution_count": 65,
   "id": "f33ddc1a",
   "metadata": {},
   "outputs": [
    {
     "name": "stdout",
     "output_type": "stream",
     "text": [
      "5\n",
      "2\n"
     ]
    }
   ],
   "source": [
    "func10()"
   ]
  },
  {
   "cell_type": "code",
   "execution_count": null,
   "id": "c83d1a87",
   "metadata": {},
   "outputs": [],
   "source": []
  }
 ],
 "metadata": {
  "kernelspec": {
   "display_name": "Python 3",
   "language": "python",
   "name": "python3"
  },
  "language_info": {
   "codemirror_mode": {
    "name": "ipython",
    "version": 3
   },
   "file_extension": ".py",
   "mimetype": "text/x-python",
   "name": "python",
   "nbconvert_exporter": "python",
   "pygments_lexer": "ipython3",
   "version": "3.8.8"
  }
 },
 "nbformat": 4,
 "nbformat_minor": 5
}
