{
 "cells": [
  {
   "cell_type": "markdown",
   "id": "8cf32888",
   "metadata": {},
   "source": [
    "\n",
    "\n",
    "\n",
    "\n",
    "\n",
    "## Lecture 2"
   ]
  },
  {
   "cell_type": "code",
   "execution_count": null,
   "id": "f38019f2",
   "metadata": {},
   "outputs": [],
   "source": [
    "#PYTHON\n",
    "USES:-\n",
    "    Web development(flask,django)\n",
    "    Automation\n",
    "    Scripting\n",
    "    Machine Learning(sklearn)\n",
    "    AI\n",
    "    Data Engineering\n",
    "    Data Analysis(pandas,numpy,matplotlib)"
   ]
  },
  {
   "cell_type": "code",
   "execution_count": null,
   "id": "ea699032",
   "metadata": {},
   "outputs": [],
   "source": [
    "Python-1989-1991\n",
    "inventor-Guido van Rossum\n",
    "open source language\n",
    "Python 3.9.0"
   ]
  },
  {
   "cell_type": "code",
   "execution_count": null,
   "id": "e61dddb2",
   "metadata": {},
   "outputs": [],
   "source": []
  },
  {
   "cell_type": "code",
   "execution_count": null,
   "id": "b66d96f7",
   "metadata": {},
   "outputs": [],
   "source": [
    "#Operator->symbols in python that perform any operation\n",
    "1.Arithematic Operator\n",
    "2.Relational Operator\n",
    "3.Logical Operator\n",
    "4.Bitwise Operator\n",
    "5.Assignment Operator\n",
    "6.Special Operators"
   ]
  },
  {
   "cell_type": "code",
   "execution_count": null,
   "id": "5aa89928",
   "metadata": {},
   "outputs": [],
   "source": [
    "a=5\n",
    "b=3\n",
    "c=a+b\n",
    "print(c)"
   ]
  },
  {
   "cell_type": "code",
   "execution_count": null,
   "id": "d27d3233",
   "metadata": {},
   "outputs": [],
   "source": [
    "##Arithematic Operator\n",
    "Addition Operator-> +\n",
    "Substarction Operator-> -\n",
    "Multiplication -> *\n",
    "Division -> /\n",
    "Modulous Operator -> %\n",
    "Floor Division Opearot -> //\n",
    "Exponent Opearator -> ** \n"
   ]
  },
  {
   "cell_type": "code",
   "execution_count": null,
   "id": "fefdaba1",
   "metadata": {},
   "outputs": [],
   "source": [
    "#Addition Operator-> +\n",
    "a=5\n",
    "b=3\n",
    "c=a+b\n",
    "print(c)"
   ]
  },
  {
   "cell_type": "code",
   "execution_count": null,
   "id": "a1372dc5",
   "metadata": {},
   "outputs": [],
   "source": [
    "a=\"pavan\"\n",
    "b=\"adnan\"\n",
    "c=a+b\n",
    "print(c)"
   ]
  },
  {
   "cell_type": "code",
   "execution_count": null,
   "id": "ba33eb90",
   "metadata": {},
   "outputs": [],
   "source": [
    "#Substarction Operator-> -\n",
    "a=5\n",
    "b=3\n",
    "c=a-b\n",
    "print(c)"
   ]
  },
  {
   "cell_type": "code",
   "execution_count": null,
   "id": "8761c982",
   "metadata": {},
   "outputs": [],
   "source": [
    "a=\"pavan\"\n",
    "b=\"adnan\"\n",
    "c=a-b\n",
    "print(c)"
   ]
  },
  {
   "cell_type": "code",
   "execution_count": null,
   "id": "38e410c3",
   "metadata": {},
   "outputs": [],
   "source": [
    "#Multiplication -> *\n",
    "a=5\n",
    "b=3\n",
    "c=a*b\n",
    "print(c)"
   ]
  },
  {
   "cell_type": "code",
   "execution_count": null,
   "id": "9f2bacc6",
   "metadata": {},
   "outputs": [],
   "source": [
    "a=\"pavan\"\n",
    "b=\"adnan\"\n",
    "c=a*b\n",
    "print(c)"
   ]
  },
  {
   "cell_type": "code",
   "execution_count": null,
   "id": "f314d619",
   "metadata": {},
   "outputs": [],
   "source": [
    "#Division -> /\n",
    "a=5\n",
    "b=3\n",
    "c=a/b\n",
    "print(c)"
   ]
  },
  {
   "cell_type": "code",
   "execution_count": null,
   "id": "c757067d",
   "metadata": {},
   "outputs": [],
   "source": [
    "#Modulous Operator -> %\n",
    "a=5\n",
    "b=3\n",
    "c=a%b\n",
    "print(c)"
   ]
  },
  {
   "cell_type": "code",
   "execution_count": null,
   "id": "875da893",
   "metadata": {},
   "outputs": [],
   "source": [
    "#Floor Division Opearotor -> //\n",
    "a=5\n",
    "b=3\n",
    "c=a//b\n",
    "print(c)"
   ]
  },
  {
   "cell_type": "code",
   "execution_count": null,
   "id": "3aad0098",
   "metadata": {},
   "outputs": [],
   "source": [
    "a=5\n",
    "b=2\n",
    "c=a//b\n",
    "print(c)"
   ]
  },
  {
   "cell_type": "code",
   "execution_count": null,
   "id": "4f759949",
   "metadata": {},
   "outputs": [],
   "source": [
    "#Exponent Opearator -> ** \n",
    "a=5\n",
    "b=2\n",
    "c=a**b\n",
    "print(c)"
   ]
  },
  {
   "cell_type": "code",
   "execution_count": null,
   "id": "10a95520",
   "metadata": {},
   "outputs": [],
   "source": [
    "#Relational Operator\n",
    ">,<,=,>=,<="
   ]
  },
  {
   "cell_type": "code",
   "execution_count": null,
   "id": "16085309",
   "metadata": {},
   "outputs": [],
   "source": [
    "a=1\n",
    "b=2\n",
    "print(a>b)\n"
   ]
  },
  {
   "cell_type": "code",
   "execution_count": null,
   "id": "d82591f5",
   "metadata": {},
   "outputs": [],
   "source": [
    "a=1\n",
    "b=2\n",
    "print(a<b)"
   ]
  },
  {
   "cell_type": "code",
   "execution_count": null,
   "id": "5362730a",
   "metadata": {},
   "outputs": [],
   "source": [
    "a=1\n",
    "b=2\n",
    "print(a=b)"
   ]
  },
  {
   "cell_type": "code",
   "execution_count": null,
   "id": "f9f3b97e",
   "metadata": {},
   "outputs": [],
   "source": [
    "a=\"arun\"\n",
    "b=\"gautam\"\n",
    "print(a<b)"
   ]
  },
  {
   "cell_type": "code",
   "execution_count": null,
   "id": "669aea8f",
   "metadata": {},
   "outputs": [],
   "source": [
    "#3.Logical Operator\n",
    "and-->if both the arguments are true only then result will be true\n",
    "or-->if at least one argument is true only then result will be true\n",
    "not->complement"
   ]
  },
  {
   "cell_type": "code",
   "execution_count": null,
   "id": "e8887290",
   "metadata": {},
   "outputs": [],
   "source": [
    "True and True"
   ]
  },
  {
   "cell_type": "code",
   "execution_count": null,
   "id": "22f74155",
   "metadata": {},
   "outputs": [],
   "source": [
    "True or True"
   ]
  },
  {
   "cell_type": "code",
   "execution_count": null,
   "id": "96c92f61",
   "metadata": {},
   "outputs": [],
   "source": [
    "True or False"
   ]
  },
  {
   "cell_type": "code",
   "execution_count": null,
   "id": "fe24256f",
   "metadata": {},
   "outputs": [],
   "source": [
    "False or False"
   ]
  },
  {
   "cell_type": "code",
   "execution_count": null,
   "id": "c4d38258",
   "metadata": {},
   "outputs": [],
   "source": [
    "not\n"
   ]
  },
  {
   "cell_type": "code",
   "execution_count": null,
   "id": "5d872ace",
   "metadata": {},
   "outputs": [],
   "source": [
    "#Assignment Operator\n",
    "a=5\n",
    "b=3\n",
    "c=a+b\n",
    "print(c)"
   ]
  },
  {
   "cell_type": "code",
   "execution_count": null,
   "id": "420e05cf",
   "metadata": {},
   "outputs": [],
   "source": [
    "a=5\n",
    "b=3\n",
    "a += b \n",
    "print(a)"
   ]
  },
  {
   "cell_type": "code",
   "execution_count": null,
   "id": "cccc1aa8",
   "metadata": {},
   "outputs": [],
   "source": [
    "a=5\n",
    "b=3\n",
    "a=a+b \n",
    "print(a)"
   ]
  },
  {
   "cell_type": "code",
   "execution_count": null,
   "id": "1884c0f7",
   "metadata": {},
   "outputs": [],
   "source": [
    "x=5\n",
    "x*=10\n",
    "print(x)"
   ]
  },
  {
   "cell_type": "markdown",
   "id": "0c6a5e0a",
   "metadata": {},
   "source": [
    "## Ternary Operator"
   ]
  },
  {
   "cell_type": "code",
   "execution_count": null,
   "id": "3684d2d6",
   "metadata": {},
   "outputs": [],
   "source": [
    "x=firstValue if condition else secondValue #Ternary Operator "
   ]
  },
  {
   "cell_type": "code",
   "execution_count": null,
   "id": "0b2f10da",
   "metadata": {},
   "outputs": [],
   "source": [
    "a=5\n",
    "b=10\n",
    "print(a)\n",
    "print(b)"
   ]
  },
  {
   "cell_type": "code",
   "execution_count": null,
   "id": "68be55ec",
   "metadata": {},
   "outputs": [],
   "source": [
    "a,b=5,10\n",
    "a,b=b,a\n",
    "print(a)\n",
    "print(b)"
   ]
  },
  {
   "cell_type": "code",
   "execution_count": null,
   "id": "456b75cc",
   "metadata": {},
   "outputs": [],
   "source": [
    "a,b=20,10\n",
    "x=30 if a<b else 40 # Ternary operator\n",
    "print(x)"
   ]
  },
  {
   "cell_type": "code",
   "execution_count": null,
   "id": "29abe277",
   "metadata": {},
   "outputs": [],
   "source": [
    "a,b=20,10\n",
    "if a<b:\n",
    "    print(30)\n",
    "else:\n",
    "    print(40)"
   ]
  },
  {
   "cell_type": "code",
   "execution_count": 23,
   "id": "73cc7e6c",
   "metadata": {},
   "outputs": [
    {
     "name": "stdout",
     "output_type": "stream",
     "text": [
      "enter first number8\n"
     ]
    }
   ],
   "source": [
    "#Program to find minimum of 3 numbers\n",
    "a=int(input(\"enter first number\"))"
   ]
  },
  {
   "cell_type": "code",
   "execution_count": 24,
   "id": "78b43813",
   "metadata": {},
   "outputs": [
    {
     "name": "stdout",
     "output_type": "stream",
     "text": [
      "8\n"
     ]
    }
   ],
   "source": [
    "print(a)"
   ]
  },
  {
   "cell_type": "code",
   "execution_count": 25,
   "id": "4b0be8a8",
   "metadata": {},
   "outputs": [
    {
     "name": "stdout",
     "output_type": "stream",
     "text": [
      "<class 'int'>\n"
     ]
    }
   ],
   "source": [
    "print(type(a))"
   ]
  },
  {
   "cell_type": "code",
   "execution_count": 31,
   "id": "67caed6a",
   "metadata": {},
   "outputs": [
    {
     "name": "stdout",
     "output_type": "stream",
     "text": [
      "enter first number5\n",
      "enter second number2\n"
     ]
    }
   ],
   "source": [
    "a=int(input(\"enter first number\"))\n",
    "b=int(input(\"enter second number\"))"
   ]
  },
  {
   "cell_type": "code",
   "execution_count": 32,
   "id": "cce02120",
   "metadata": {},
   "outputs": [
    {
     "name": "stdout",
     "output_type": "stream",
     "text": [
      "7\n"
     ]
    }
   ],
   "source": [
    "c=a+b\n",
    "print(c)"
   ]
  },
  {
   "cell_type": "code",
   "execution_count": 33,
   "id": "c28aa359",
   "metadata": {},
   "outputs": [
    {
     "name": "stdout",
     "output_type": "stream",
     "text": [
      "enter first number8\n",
      "enter second number4\n",
      "enter third number9\n",
      "minimum value: 4\n"
     ]
    }
   ],
   "source": [
    "a=int(input(\"enter first number\"))\n",
    "b=int(input(\"enter second number\"))\n",
    "c=int(input(\"enter third number\"))\n",
    "min=a if a<b and a<c else b if b<c else c\n",
    "print(\"minimum value:\",min)"
   ]
  },
  {
   "cell_type": "markdown",
   "id": "55aba45f",
   "metadata": {},
   "source": [
    "## SPECIAL OPERATOR"
   ]
  },
  {
   "cell_type": "code",
   "execution_count": null,
   "id": "2e647096",
   "metadata": {},
   "outputs": [],
   "source": [
    "1.IDENTITY OPERATORS\n",
    "2.MEBERSHIP OPERATOR"
   ]
  },
  {
   "cell_type": "code",
   "execution_count": null,
   "id": "d89367c0",
   "metadata": {},
   "outputs": [],
   "source": [
    "1.IDENTITY OPERATORS\n",
    "a)is--> is opeartor is used for address comparision and \"==\" compares values\n",
    "b)is not"
   ]
  },
  {
   "cell_type": "code",
   "execution_count": 37,
   "id": "fa93dec6",
   "metadata": {},
   "outputs": [
    {
     "name": "stdout",
     "output_type": "stream",
     "text": [
      "True\n"
     ]
    }
   ],
   "source": [
    "a=10\n",
    "b=10\n",
    "c=10\n",
    "print(a is b is c)"
   ]
  },
  {
   "cell_type": "code",
   "execution_count": 35,
   "id": "be8e19bb",
   "metadata": {},
   "outputs": [
    {
     "name": "stdout",
     "output_type": "stream",
     "text": [
      "True\n"
     ]
    }
   ],
   "source": [
    "x=True\n",
    "y=True\n",
    "print(x is y)"
   ]
  },
  {
   "cell_type": "code",
   "execution_count": 39,
   "id": "8870a4c4",
   "metadata": {},
   "outputs": [
    {
     "name": "stdout",
     "output_type": "stream",
     "text": [
      "140729416034384\n",
      "140729416034384\n",
      "False\n"
     ]
    }
   ],
   "source": [
    "a=10\n",
    "b=10\n",
    "print(id(a))\n",
    "print(id(b))\n",
    "print(a is not b)"
   ]
  },
  {
   "cell_type": "code",
   "execution_count": null,
   "id": "04bb7354",
   "metadata": {},
   "outputs": [],
   "source": [
    "2.MEBERSHIP OPERATOR\n",
    "a)in\n",
    "b)not in"
   ]
  },
  {
   "cell_type": "code",
   "execution_count": 43,
   "id": "83786146",
   "metadata": {},
   "outputs": [
    {
     "name": "stdout",
     "output_type": "stream",
     "text": [
      "True\n",
      "False\n",
      "False\n"
     ]
    }
   ],
   "source": [
    "#in\n",
    "\n",
    "x=\"my name is arun\"\n",
    "print('n' in x)\n",
    "print('z' in x)\n",
    "print('n'not in x)"
   ]
  },
  {
   "cell_type": "code",
   "execution_count": null,
   "id": "b2c6348a",
   "metadata": {},
   "outputs": [],
   "source": []
  }
 ],
 "metadata": {
  "kernelspec": {
   "display_name": "Python 3",
   "language": "python",
   "name": "python3"
  },
  "language_info": {
   "codemirror_mode": {
    "name": "ipython",
    "version": 3
   },
   "file_extension": ".py",
   "mimetype": "text/x-python",
   "name": "python",
   "nbconvert_exporter": "python",
   "pygments_lexer": "ipython3",
   "version": "3.8.8"
  }
 },
 "nbformat": 4,
 "nbformat_minor": 5
}
