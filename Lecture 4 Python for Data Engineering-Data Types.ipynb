{
 "cells": [
  {
   "cell_type": "markdown",
   "id": "215ef715",
   "metadata": {},
   "source": [
    "# Identifiers"
   ]
  },
  {
   "cell_type": "code",
   "execution_count": 2,
   "id": "4c59d02f",
   "metadata": {},
   "outputs": [
    {
     "name": "stdout",
     "output_type": "stream",
     "text": [
      "83\n"
     ]
    }
   ],
   "source": [
    "#A name(variable name,class name,function name,module name) in python is identifier."
   ]
  },
  {
   "cell_type": "code",
   "execution_count": 13,
   "id": "a261150d",
   "metadata": {},
   "outputs": [
    {
     "name": "stdout",
     "output_type": "stream",
     "text": [
      "5\n"
     ]
    }
   ],
   "source": [
    "a=5\n",
    "print(a)"
   ]
  },
  {
   "cell_type": "code",
   "execution_count": null,
   "id": "73c566a7",
   "metadata": {},
   "outputs": [],
   "source": [
    "#Rules to define identifiers:-\n",
    "    alphabet symbols(lower case or upper case)\n",
    "    digits(0 to 9)\n",
    "    underscore symbol(_)\n",
    "    \n",
    "    Identifiers should not start with digits.\n",
    "    \n",
    "    Identifiers are case sensitive(Python is case sensitive)\n",
    "    \n",
    "    Reserverd keywords cannot be identifiers.\n",
    "    "
   ]
  },
  {
   "cell_type": "code",
   "execution_count": 18,
   "id": "3a0cb840",
   "metadata": {},
   "outputs": [
    {
     "name": "stdout",
     "output_type": "stream",
     "text": [
      "7\n"
     ]
    }
   ],
   "source": [
    "arun_6=7\n",
    "print(arun_6)"
   ]
  },
  {
   "cell_type": "code",
   "execution_count": 15,
   "id": "c8ef05ce",
   "metadata": {},
   "outputs": [
    {
     "ename": "SyntaxError",
     "evalue": "invalid syntax (<ipython-input-15-2063268717da>, line 1)",
     "output_type": "error",
     "traceback": [
      "\u001b[1;36m  File \u001b[1;32m\"<ipython-input-15-2063268717da>\"\u001b[1;36m, line \u001b[1;32m1\u001b[0m\n\u001b[1;33m    ar$un=5\u001b[0m\n\u001b[1;37m      ^\u001b[0m\n\u001b[1;31mSyntaxError\u001b[0m\u001b[1;31m:\u001b[0m invalid syntax\n"
     ]
    }
   ],
   "source": [
    "ar$un=5\n",
    "print(ar$un)"
   ]
  },
  {
   "cell_type": "code",
   "execution_count": 19,
   "id": "8682f310",
   "metadata": {},
   "outputs": [
    {
     "ename": "SyntaxError",
     "evalue": "invalid syntax (<ipython-input-19-0d6df999f83e>, line 1)",
     "output_type": "error",
     "traceback": [
      "\u001b[1;36m  File \u001b[1;32m\"<ipython-input-19-0d6df999f83e>\"\u001b[1;36m, line \u001b[1;32m1\u001b[0m\n\u001b[1;33m    78arun=9\u001b[0m\n\u001b[1;37m      ^\u001b[0m\n\u001b[1;31mSyntaxError\u001b[0m\u001b[1;31m:\u001b[0m invalid syntax\n"
     ]
    }
   ],
   "source": [
    "78arun=9\n",
    "print(78arun)"
   ]
  },
  {
   "cell_type": "code",
   "execution_count": 20,
   "id": "5cf6af2c",
   "metadata": {},
   "outputs": [
    {
     "name": "stdout",
     "output_type": "stream",
     "text": [
      "9\n"
     ]
    }
   ],
   "source": [
    "arun78=9\n",
    "print(arun78)"
   ]
  },
  {
   "cell_type": "code",
   "execution_count": 22,
   "id": "565ce7b0",
   "metadata": {},
   "outputs": [
    {
     "name": "stdout",
     "output_type": "stream",
     "text": [
      "9\n"
     ]
    }
   ],
   "source": [
    "arun=7\n",
    "ARUN=9\n",
    "print(ARUN)"
   ]
  },
  {
   "cell_type": "markdown",
   "id": "b1fb511c",
   "metadata": {},
   "source": [
    "##Reserved Keywords\n",
    "There are 33 reserved keywords in python.\n",
    "\n",
    "True,False,None->only these 3 keywords have capital letter.\n",
    "and,or,not,is\n",
    "if,elif,else\n",
    "while,for,break,continue,return,in,yield\n",
    "try,except,finally,raise,assert\n",
    "import,from,as,class,def,pass,global,nonlocal,lamda,del,with\n"
   ]
  },
  {
   "cell_type": "code",
   "execution_count": 25,
   "id": "bf5e0784",
   "metadata": {},
   "outputs": [
    {
     "ename": "SyntaxError",
     "evalue": "invalid syntax (<ipython-input-25-7a4229708adf>, line 1)",
     "output_type": "error",
     "traceback": [
      "\u001b[1;36m  File \u001b[1;32m\"<ipython-input-25-7a4229708adf>\"\u001b[1;36m, line \u001b[1;32m1\u001b[0m\n\u001b[1;33m    return=4\u001b[0m\n\u001b[1;37m          ^\u001b[0m\n\u001b[1;31mSyntaxError\u001b[0m\u001b[1;31m:\u001b[0m invalid syntax\n"
     ]
    }
   ],
   "source": [
    "return=4\n",
    "print(return)"
   ]
  },
  {
   "cell_type": "markdown",
   "id": "f8b281b6",
   "metadata": {},
   "source": [
    "# Data Types"
   ]
  },
  {
   "cell_type": "code",
   "execution_count": null,
   "id": "8954279c",
   "metadata": {},
   "outputs": [],
   "source": [
    "#based on the vlaues provided,teh data type is automatically assigned to the variables.Hence,python is Dynamically Typed Language."
   ]
  },
  {
   "cell_type": "code",
   "execution_count": 26,
   "id": "f125b74d",
   "metadata": {},
   "outputs": [
    {
     "name": "stdout",
     "output_type": "stream",
     "text": [
      "<class 'int'>\n"
     ]
    }
   ],
   "source": [
    "a=5\n",
    "print(type(a))"
   ]
  },
  {
   "cell_type": "code",
   "execution_count": 28,
   "id": "8516dd98",
   "metadata": {},
   "outputs": [
    {
     "name": "stdout",
     "output_type": "stream",
     "text": [
      "<class 'str'>\n"
     ]
    }
   ],
   "source": [
    "a=\"rahul\"\n",
    "print(type(a))"
   ]
  },
  {
   "cell_type": "code",
   "execution_count": 29,
   "id": "084e4a3e",
   "metadata": {},
   "outputs": [
    {
     "name": "stdout",
     "output_type": "stream",
     "text": [
      "<class 'str'>\n"
     ]
    }
   ],
   "source": [
    "a='rahul'\n",
    "print(type(a))"
   ]
  },
  {
   "cell_type": "code",
   "execution_count": null,
   "id": "656feba2",
   "metadata": {},
   "outputs": [],
   "source": [
    "#Python has following inbuild data types:-\n",
    "   1.int\n",
    "    "
   ]
  },
  {
   "cell_type": "code",
   "execution_count": 37,
   "id": "720c6428",
   "metadata": {},
   "outputs": [
    {
     "name": "stdout",
     "output_type": "stream",
     "text": [
      "10\n",
      "<class 'int'>\n"
     ]
    }
   ],
   "source": [
    " #int data type->to represent whole numbers(integer values)\n",
    "a=10\n",
    "print(a)\n",
    "print(type(a))\n",
    "    \n",
    "    "
   ]
  },
  {
   "cell_type": "code",
   "execution_count": 33,
   "id": "06e19313",
   "metadata": {},
   "outputs": [
    {
     "name": "stdout",
     "output_type": "stream",
     "text": [
      "2.456\n",
      "<class 'float'>\n"
     ]
    }
   ],
   "source": [
    " #float data type->to represent decimal values\n",
    "a=2.456\n",
    "print(a)\n",
    "print(type(a))\n"
   ]
  },
  {
   "cell_type": "code",
   "execution_count": 38,
   "id": "32c785bb",
   "metadata": {},
   "outputs": [
    {
     "name": "stdout",
     "output_type": "stream",
     "text": [
      "(2+6j)\n",
      "<class 'complex'>\n"
     ]
    }
   ],
   "source": [
    "#Complex data type\n",
    "a=2+6j\n",
    "print(a)\n",
    "print(type(a))"
   ]
  },
  {
   "cell_type": "code",
   "execution_count": 43,
   "id": "d316cdff",
   "metadata": {},
   "outputs": [
    {
     "name": "stdout",
     "output_type": "stream",
     "text": [
      "<class 'bool'>\n"
     ]
    }
   ],
   "source": [
    "#bool data type->to represent boolena values\n",
    "#True->1 oR False->0\n",
    "\n",
    "a=True\n",
    "print(type(a))\n"
   ]
  },
  {
   "cell_type": "code",
   "execution_count": 46,
   "id": "58337510",
   "metadata": {},
   "outputs": [
    {
     "name": "stdout",
     "output_type": "stream",
     "text": [
      "<class 'bool'>\n"
     ]
    }
   ],
   "source": [
    "a=False\n",
    "print(type(a))"
   ]
  },
  {
   "cell_type": "code",
   "execution_count": 48,
   "id": "cbd8a451",
   "metadata": {},
   "outputs": [
    {
     "name": "stdout",
     "output_type": "stream",
     "text": [
      "True\n",
      "<class 'bool'>\n"
     ]
    }
   ],
   "source": [
    "a=10\n",
    "b=20\n",
    "c=a<b\n",
    "print(c)\n",
    "print(type(c))"
   ]
  },
  {
   "cell_type": "code",
   "execution_count": 50,
   "id": "6e669b33",
   "metadata": {},
   "outputs": [
    {
     "name": "stdout",
     "output_type": "stream",
     "text": [
      "rahul\n",
      "<class 'str'>\n"
     ]
    }
   ],
   "source": [
    "#string data type->represented by str->written either in single quotes or double quotes\n",
    "a=\"rahul\"\n",
    "print(a)\n",
    "print(type(a))\n"
   ]
  },
  {
   "cell_type": "code",
   "execution_count": 51,
   "id": "3c3f84ba",
   "metadata": {},
   "outputs": [
    {
     "name": "stdout",
     "output_type": "stream",
     "text": [
      "rahul\n",
      "<class 'str'>\n"
     ]
    }
   ],
   "source": [
    "a='rahul'\n",
    "print(a)\n",
    "print(type(a))"
   ]
  },
  {
   "cell_type": "code",
   "execution_count": 57,
   "id": "45ef580a",
   "metadata": {},
   "outputs": [
    {
     "name": "stdout",
     "output_type": "stream",
     "text": [
      "rahul \n",
      "is a\n",
      "good\n",
      "coder\n",
      "<class 'str'>\n"
     ]
    }
   ],
   "source": [
    "a=\"\"\"rahul \n",
    "is a\n",
    "good\n",
    "coder\"\"\"\n",
    "print(a)\n",
    "print(type(a))"
   ]
  },
  {
   "cell_type": "code",
   "execution_count": 58,
   "id": "54c3b309",
   "metadata": {},
   "outputs": [
    {
     "name": "stdout",
     "output_type": "stream",
     "text": [
      "rahul \n",
      "is a\n",
      "good\n",
      "coder\n",
      "<class 'str'>\n"
     ]
    }
   ],
   "source": [
    "a='''rahul \n",
    "is a\n",
    "good\n",
    "coder'''\n",
    "print(a)\n",
    "print(type(a))"
   ]
  },
  {
   "cell_type": "code",
   "execution_count": null,
   "id": "2f489a63",
   "metadata": {},
   "outputs": [],
   "source": [
    "to comment or uncomment multiple lines simutaneoulsy->ctrl+question mark\n",
    "# adnaan is a good boy\n",
    "# pradee is excellent person"
   ]
  },
  {
   "cell_type": "code",
   "execution_count": null,
   "id": "7c7a1223",
   "metadata": {},
   "outputs": [],
   "source": [
    "#Slicing of Strings"
   ]
  }
 ],
 "metadata": {
  "kernelspec": {
   "display_name": "Python 3",
   "language": "python",
   "name": "python3"
  },
  "language_info": {
   "codemirror_mode": {
    "name": "ipython",
    "version": 3
   },
   "file_extension": ".py",
   "mimetype": "text/x-python",
   "name": "python",
   "nbconvert_exporter": "python",
   "pygments_lexer": "ipython3",
   "version": "3.8.8"
  }
 },
 "nbformat": 4,
 "nbformat_minor": 5
}
