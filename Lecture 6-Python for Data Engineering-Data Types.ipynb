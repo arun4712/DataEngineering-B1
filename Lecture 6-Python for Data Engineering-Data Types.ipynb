{
 "cells": [
  {
   "cell_type": "code",
   "execution_count": null,
   "id": "3c7a6877",
   "metadata": {},
   "outputs": [],
   "source": [
    "#Range data type\n",
    "#it represents a sequesnce of number\n"
   ]
  },
  {
   "cell_type": "code",
   "execution_count": 1,
   "id": "bc60fa07",
   "metadata": {},
   "outputs": [],
   "source": [
    "r=range(10)"
   ]
  },
  {
   "cell_type": "code",
   "execution_count": 2,
   "id": "05e1e89e",
   "metadata": {},
   "outputs": [
    {
     "name": "stdout",
     "output_type": "stream",
     "text": [
      "range(0, 10)\n"
     ]
    }
   ],
   "source": [
    "print(r)"
   ]
  },
  {
   "cell_type": "code",
   "execution_count": 3,
   "id": "cd97a4df",
   "metadata": {},
   "outputs": [
    {
     "name": "stdout",
     "output_type": "stream",
     "text": [
      "0\n",
      "1\n",
      "2\n",
      "3\n",
      "4\n",
      "5\n",
      "6\n",
      "7\n",
      "8\n",
      "9\n"
     ]
    }
   ],
   "source": [
    "for i in r:\n",
    "    print(i)\n",
    "    "
   ]
  },
  {
   "cell_type": "code",
   "execution_count": 4,
   "id": "245c1ea8",
   "metadata": {},
   "outputs": [
    {
     "name": "stdout",
     "output_type": "stream",
     "text": [
      "3\n",
      "4\n",
      "5\n",
      "6\n",
      "7\n",
      "6\n"
     ]
    }
   ],
   "source": [
    "l=[3,4,5,6,7,6]\n",
    "for i in l:\n",
    "    print(i)"
   ]
  },
  {
   "cell_type": "code",
   "execution_count": 5,
   "id": "134f5ef5",
   "metadata": {},
   "outputs": [
    {
     "name": "stdout",
     "output_type": "stream",
     "text": [
      "0\n",
      "1\n",
      "2\n",
      "3\n",
      "4\n"
     ]
    }
   ],
   "source": [
    "r=range(5)\n",
    "for i in r:\n",
    "    print(i)"
   ]
  },
  {
   "cell_type": "code",
   "execution_count": 7,
   "id": "f57a85ee",
   "metadata": {},
   "outputs": [
    {
     "name": "stdout",
     "output_type": "stream",
     "text": [
      "2\n",
      "3\n",
      "4\n"
     ]
    }
   ],
   "source": [
    "r=range(2,5)\n",
    "for i in r:\n",
    "    print(i)"
   ]
  },
  {
   "cell_type": "code",
   "execution_count": 8,
   "id": "103ba2f3",
   "metadata": {},
   "outputs": [
    {
     "name": "stdout",
     "output_type": "stream",
     "text": [
      "20\n",
      "22\n",
      "24\n",
      "26\n",
      "28\n",
      "30\n",
      "32\n",
      "34\n",
      "36\n",
      "38\n"
     ]
    }
   ],
   "source": [
    "r=range(20,40,2)\n",
    "for i in r:\n",
    "    print(i)"
   ]
  },
  {
   "cell_type": "code",
   "execution_count": 9,
   "id": "958ab3ed",
   "metadata": {},
   "outputs": [
    {
     "name": "stdout",
     "output_type": "stream",
     "text": [
      "<class 'range'>\n"
     ]
    }
   ],
   "source": [
    "r=range(2,5)\n",
    "print(type(r))"
   ]
  },
  {
   "cell_type": "code",
   "execution_count": 14,
   "id": "c848f75f",
   "metadata": {},
   "outputs": [
    {
     "name": "stdout",
     "output_type": "stream",
     "text": [
      "<class 'range'>\n",
      "[2, 3, 4]\n",
      "<class 'list'>\n"
     ]
    }
   ],
   "source": [
    "r=range(2,5)\n",
    "print(type(r))\n",
    "l1=list(r)\n",
    "print(l1)\n",
    "print(type(l1))"
   ]
  },
  {
   "cell_type": "code",
   "execution_count": 21,
   "id": "584c3e35",
   "metadata": {},
   "outputs": [
    {
     "name": "stdout",
     "output_type": "stream",
     "text": [
      "-6\n",
      "-5\n",
      "-4\n",
      "-3\n",
      "-2\n",
      "-1\n",
      "0\n",
      "1\n"
     ]
    }
   ],
   "source": [
    "r=range(-6,2)\n",
    "for i in r:\n",
    "    print(i)"
   ]
  },
  {
   "cell_type": "code",
   "execution_count": null,
   "id": "054f73c7",
   "metadata": {},
   "outputs": [],
   "source": [
    "#\n",
    "[]->list\n",
    "()->tuple\n",
    "{}->set"
   ]
  },
  {
   "cell_type": "code",
   "execution_count": null,
   "id": "5cb48300",
   "metadata": {},
   "outputs": [],
   "source": [
    "#set data type-> {}"
   ]
  },
  {
   "cell_type": "code",
   "execution_count": 24,
   "id": "12e79652",
   "metadata": {},
   "outputs": [
    {
     "name": "stdout",
     "output_type": "stream",
     "text": [
      "{34, 6, 78, 'rahul', 'ashish', 54, 23, 'pradeep'}\n"
     ]
    }
   ],
   "source": [
    "s={23,54,6,34,78,\"rahul\",\"pradeep\",\"ashish\"}\n",
    "print(s)"
   ]
  },
  {
   "cell_type": "code",
   "execution_count": 25,
   "id": "7404ebbc",
   "metadata": {},
   "outputs": [
    {
     "name": "stdout",
     "output_type": "stream",
     "text": [
      "{34, 6, 78, 'rahul', 'ashish', 54, 23, 'pradeep'}\n"
     ]
    }
   ],
   "source": [
    "s={23,23,54,6,6,34,78,\"rahul\",\"pradeep\",\"ashish\"}\n",
    "print(s)"
   ]
  },
  {
   "cell_type": "code",
   "execution_count": 26,
   "id": "19939ccc",
   "metadata": {},
   "outputs": [],
   "source": [
    "s.add(79)"
   ]
  },
  {
   "cell_type": "code",
   "execution_count": 29,
   "id": "64bb621b",
   "metadata": {},
   "outputs": [
    {
     "name": "stdout",
     "output_type": "stream",
     "text": [
      "{34, 6, 78, 79, 'rahul', 'ashish', 54, 23, 'pradeep'}\n"
     ]
    }
   ],
   "source": [
    "print(s)"
   ]
  },
  {
   "cell_type": "code",
   "execution_count": 30,
   "id": "f9832070",
   "metadata": {},
   "outputs": [
    {
     "name": "stdout",
     "output_type": "stream",
     "text": [
      "{34, 6, 78, 79, 'rahul', 'ashish', 55, 54, 23, 'pradeep'}\n"
     ]
    }
   ],
   "source": [
    "s.add(55)\n",
    "print(s)"
   ]
  },
  {
   "cell_type": "code",
   "execution_count": 31,
   "id": "045cee58",
   "metadata": {},
   "outputs": [
    {
     "name": "stdout",
     "output_type": "stream",
     "text": [
      "{34, 6, 78, 79, 'rahul', 'ashish', 55, 23, 'pradeep'}\n"
     ]
    }
   ],
   "source": [
    "s.remove(54)\n",
    "print(s)"
   ]
  },
  {
   "cell_type": "code",
   "execution_count": null,
   "id": "56d52e09",
   "metadata": {},
   "outputs": [],
   "source": [
    "# dict(dictionary) data type-->{}->if we want to reresent group of values in key-value pair tyhen we will use dict data type"
   ]
  },
  {
   "cell_type": "code",
   "execution_count": 33,
   "id": "e4970061",
   "metadata": {},
   "outputs": [
    {
     "name": "stdout",
     "output_type": "stream",
     "text": [
      "{1: 'pavan', 2: 'anup', 3: 'sonu', 4: 'sweta', 5: 'ashish', 6: 'adnaan', 7: 'rahul'}\n",
      "<class 'dict'>\n"
     ]
    }
   ],
   "source": [
    "d={1:'pavan',2:'anup',3:'sonu',4:'sweta',5:'ashish',6:'adnaan',7:'rahul'}\n",
    "print(d)\n",
    "print(type(d))"
   ]
  },
  {
   "cell_type": "code",
   "execution_count": 36,
   "id": "1e98d554",
   "metadata": {},
   "outputs": [
    {
     "data": {
      "text/plain": [
       "'rahul'"
      ]
     },
     "execution_count": 36,
     "metadata": {},
     "output_type": "execute_result"
    }
   ],
   "source": [
    "d[7]"
   ]
  },
  {
   "cell_type": "code",
   "execution_count": 37,
   "id": "1fab1437",
   "metadata": {},
   "outputs": [],
   "source": [
    "d[8]=\"nandini\""
   ]
  },
  {
   "cell_type": "code",
   "execution_count": 38,
   "id": "8b048e08",
   "metadata": {},
   "outputs": [
    {
     "name": "stdout",
     "output_type": "stream",
     "text": [
      "{1: 'pavan', 2: 'anup', 3: 'sonu', 4: 'sweta', 5: 'ashish', 6: 'adnaan', 7: 'rahul', 8: 'nandini'}\n"
     ]
    }
   ],
   "source": [
    "print(d)"
   ]
  },
  {
   "cell_type": "code",
   "execution_count": 39,
   "id": "a74516df",
   "metadata": {},
   "outputs": [],
   "source": [
    "d[3]=\"arun\""
   ]
  },
  {
   "cell_type": "code",
   "execution_count": 40,
   "id": "60b185d8",
   "metadata": {},
   "outputs": [
    {
     "name": "stdout",
     "output_type": "stream",
     "text": [
      "{1: 'pavan', 2: 'anup', 3: 'arun', 4: 'sweta', 5: 'ashish', 6: 'adnaan', 7: 'rahul', 8: 'nandini'}\n"
     ]
    }
   ],
   "source": [
    "print(d)"
   ]
  },
  {
   "cell_type": "code",
   "execution_count": 41,
   "id": "ddf1ffcf",
   "metadata": {},
   "outputs": [
    {
     "name": "stdout",
     "output_type": "stream",
     "text": [
      "{1: 'pavan', 2: 'anup', 3: 'arun', 4: 'sweta', 5: 'arun', 6: 'adnaan', 7: 'rahul', 8: 'nandini'}\n"
     ]
    }
   ],
   "source": [
    "d[5]=\"arun\"\n",
    "print(d)"
   ]
  },
  {
   "cell_type": "code",
   "execution_count": null,
   "id": "ce3e4733",
   "metadata": {},
   "outputs": [],
   "source": [
    "# Duplicate keys are not allowed but duplcate values are allowed."
   ]
  },
  {
   "cell_type": "code",
   "execution_count": 43,
   "id": "802a4690",
   "metadata": {},
   "outputs": [],
   "source": [
    "#None Data Type\n",
    "def xy():\n",
    "    b=5\n",
    "    print(b)"
   ]
  },
  {
   "cell_type": "code",
   "execution_count": 44,
   "id": "103dee5d",
   "metadata": {},
   "outputs": [
    {
     "name": "stdout",
     "output_type": "stream",
     "text": [
      "5\n"
     ]
    }
   ],
   "source": [
    "xy()"
   ]
  },
  {
   "cell_type": "code",
   "execution_count": 53,
   "id": "783df348",
   "metadata": {},
   "outputs": [],
   "source": [
    "def xy():\n",
    "    b=5\n",
    "    return b"
   ]
  },
  {
   "cell_type": "code",
   "execution_count": 54,
   "id": "9c5aae56",
   "metadata": {},
   "outputs": [
    {
     "name": "stdout",
     "output_type": "stream",
     "text": [
      "5\n",
      "<class 'int'>\n"
     ]
    }
   ],
   "source": [
    "a=xy()\n",
    "print(a)\n",
    "print(type(a))"
   ]
  },
  {
   "cell_type": "code",
   "execution_count": 49,
   "id": "5ac5bd34",
   "metadata": {},
   "outputs": [],
   "source": [
    "def xy():\n",
    "    b=5    "
   ]
  },
  {
   "cell_type": "code",
   "execution_count": 52,
   "id": "911e326a",
   "metadata": {},
   "outputs": [
    {
     "name": "stdout",
     "output_type": "stream",
     "text": [
      "None\n",
      "<class 'NoneType'>\n"
     ]
    }
   ],
   "source": [
    "a=xy()\n",
    "print(a)\n",
    "print(type(a))"
   ]
  },
  {
   "cell_type": "code",
   "execution_count": 55,
   "id": "41b05080",
   "metadata": {},
   "outputs": [
    {
     "name": "stdout",
     "output_type": "stream",
     "text": [
      "arunkumar\n"
     ]
    }
   ],
   "source": [
    "## Escape Characters--> \\\n",
    "\n",
    "a=\"arunkumar\"\n",
    "print(a)"
   ]
  },
  {
   "cell_type": "code",
   "execution_count": 56,
   "id": "ea55872a",
   "metadata": {},
   "outputs": [
    {
     "name": "stdout",
     "output_type": "stream",
     "text": [
      "arun\n",
      "kumar\n"
     ]
    }
   ],
   "source": [
    "a=\"arun\\nkumar\"\n",
    "print(a)"
   ]
  },
  {
   "cell_type": "code",
   "execution_count": 59,
   "id": "1accd5d3",
   "metadata": {},
   "outputs": [
    {
     "name": "stdout",
     "output_type": "stream",
     "text": [
      "arun\tkumar\n"
     ]
    }
   ],
   "source": [
    "a=\"arun\\tkumar\"\n",
    "print(a)"
   ]
  },
  {
   "cell_type": "code",
   "execution_count": 60,
   "id": "80efcdec",
   "metadata": {},
   "outputs": [
    {
     "name": "stdout",
     "output_type": "stream",
     "text": [
      "arun'kumar\n"
     ]
    }
   ],
   "source": [
    "a=\"arun\\'kumar\"\n",
    "print(a)"
   ]
  },
  {
   "cell_type": "code",
   "execution_count": null,
   "id": "95ad78ef",
   "metadata": {},
   "outputs": [],
   "source": [
    "#Operators\n",
    "#Data Types\n",
    "#Identifiers"
   ]
  },
  {
   "cell_type": "code",
   "execution_count": 61,
   "id": "0c33f3a7",
   "metadata": {},
   "outputs": [
    {
     "name": "stdout",
     "output_type": "stream",
     "text": [
      "Enter your name: arun\n",
      "arun\n"
     ]
    }
   ],
   "source": [
    "#Input and Output Staements\n",
    "name=input(\"Enter your name: \")\n",
    "print(name)"
   ]
  },
  {
   "cell_type": "code",
   "execution_count": 63,
   "id": "7b63af0c",
   "metadata": {},
   "outputs": [
    {
     "name": "stdout",
     "output_type": "stream",
     "text": [
      "Enter your name: arun\n",
      "arun\n",
      "<class 'str'>\n"
     ]
    }
   ],
   "source": [
    "name=input(\"Enter your name: \")\n",
    "print(name)\n",
    "print(type(name))"
   ]
  },
  {
   "cell_type": "code",
   "execution_count": 66,
   "id": "e333009d",
   "metadata": {},
   "outputs": [
    {
     "name": "stdout",
     "output_type": "stream",
     "text": [
      "Enter your roll number: 8\n",
      "8\n",
      "<class 'int'>\n"
     ]
    }
   ],
   "source": [
    "rollnumber=int(input(\"Enter your roll number: \"))\n",
    "print(rollnumber)\n",
    "print(type(rollnumber))"
   ]
  },
  {
   "cell_type": "code",
   "execution_count": 68,
   "id": "5c15d94d",
   "metadata": {},
   "outputs": [
    {
     "name": "stdout",
     "output_type": "stream",
     "text": [
      "enter first number:5\n",
      "enter second number:3\n",
      "sum is : 8\n"
     ]
    }
   ],
   "source": [
    "#write a programme to add 2 number\n",
    "a=int(input(\"enter first number:\"))\n",
    "b=int(input(\"enter second number:\"))\n",
    "c=a+b\n",
    "print(\"sum is :\",c)"
   ]
  },
  {
   "cell_type": "code",
   "execution_count": null,
   "id": "c3d4c54c",
   "metadata": {},
   "outputs": [],
   "source": []
  }
 ],
 "metadata": {
  "kernelspec": {
   "display_name": "Python 3",
   "language": "python",
   "name": "python3"
  },
  "language_info": {
   "codemirror_mode": {
    "name": "ipython",
    "version": 3
   },
   "file_extension": ".py",
   "mimetype": "text/x-python",
   "name": "python",
   "nbconvert_exporter": "python",
   "pygments_lexer": "ipython3",
   "version": "3.8.8"
  }
 },
 "nbformat": 4,
 "nbformat_minor": 5
}
