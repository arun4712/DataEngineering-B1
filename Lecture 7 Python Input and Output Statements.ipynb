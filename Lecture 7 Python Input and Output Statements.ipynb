{
 "cells": [
  {
   "cell_type": "markdown",
   "id": "c14a7309",
   "metadata": {},
   "source": [
    "## Input and Output Statements"
   ]
  },
  {
   "cell_type": "code",
   "execution_count": null,
   "id": "ee19f489",
   "metadata": {},
   "outputs": [],
   "source": [
    "input()"
   ]
  },
  {
   "cell_type": "code",
   "execution_count": 2,
   "id": "5c4a514c",
   "metadata": {},
   "outputs": [
    {
     "name": "stdout",
     "output_type": "stream",
     "text": [
      "Enter your name :arun\n",
      "My name is  arun\n"
     ]
    }
   ],
   "source": [
    "name=input(\"Enter your name :\")\n",
    "print(\"My name is \",name)"
   ]
  },
  {
   "cell_type": "code",
   "execution_count": 3,
   "id": "64ff24c6",
   "metadata": {},
   "outputs": [
    {
     "name": "stdout",
     "output_type": "stream",
     "text": [
      "5\n",
      "7\n"
     ]
    }
   ],
   "source": [
    "a=5\n",
    "b=7\n",
    "print(a)\n",
    "print(b)"
   ]
  },
  {
   "cell_type": "code",
   "execution_count": 5,
   "id": "83580ae3",
   "metadata": {},
   "outputs": [
    {
     "name": "stdout",
     "output_type": "stream",
     "text": [
      "5\n",
      "7\n",
      "8\n"
     ]
    }
   ],
   "source": [
    "a,b,c=5,7,8\n",
    "print(a)\n",
    "print(b)\n",
    "print(c)"
   ]
  },
  {
   "cell_type": "code",
   "execution_count": 6,
   "id": "0ea1c633",
   "metadata": {},
   "outputs": [
    {
     "name": "stdout",
     "output_type": "stream",
     "text": [
      "Enter two values :4 5\n"
     ]
    }
   ],
   "source": [
    "a,b=(input(\"Enter two values :\")).split()"
   ]
  },
  {
   "cell_type": "code",
   "execution_count": 7,
   "id": "6cbdf16d",
   "metadata": {},
   "outputs": [
    {
     "name": "stdout",
     "output_type": "stream",
     "text": [
      "4\n",
      "5\n"
     ]
    }
   ],
   "source": [
    "print(a)\n",
    "print(b)"
   ]
  },
  {
   "cell_type": "code",
   "execution_count": 9,
   "id": "cab51926",
   "metadata": {},
   "outputs": [
    {
     "name": "stdout",
     "output_type": "stream",
     "text": [
      "Enter two values :45 78\n",
      "45\n",
      "78\n"
     ]
    }
   ],
   "source": [
    "a,b=(input(\"Enter two values :\")).split()\n",
    "print(a)\n",
    "print(b)"
   ]
  },
  {
   "cell_type": "code",
   "execution_count": 10,
   "id": "6e3a6d01",
   "metadata": {},
   "outputs": [
    {
     "name": "stdout",
     "output_type": "stream",
     "text": [
      "Enter three values :12 30 78\n",
      "12\n",
      "30\n",
      "78\n"
     ]
    }
   ],
   "source": [
    "a,b,c=(input(\"Enter three values :\")).split()\n",
    "print(a)\n",
    "print(b)\n",
    "print(c)"
   ]
  },
  {
   "cell_type": "code",
   "execution_count": 14,
   "id": "a51115b3",
   "metadata": {},
   "outputs": [
    {
     "name": "stdout",
     "output_type": "stream",
     "text": [
      "60.5\n"
     ]
    }
   ],
   "source": [
    "#eval() function:it takes string as input and returns the result\n",
    "x=eval(\"10+20.5+30\")\n",
    "print(x)"
   ]
  },
  {
   "cell_type": "code",
   "execution_count": 21,
   "id": "fbff4f19",
   "metadata": {},
   "outputs": [
    {
     "name": "stdout",
     "output_type": "stream",
     "text": [
      "helloworld\n"
     ]
    }
   ],
   "source": [
    "#Output Statements\n",
    "print(\"helloworld\")\n"
   ]
  },
  {
   "cell_type": "code",
   "execution_count": 16,
   "id": "40bfd6c9",
   "metadata": {},
   "outputs": [
    {
     "name": "stdout",
     "output_type": "stream",
     "text": [
      "hello\n",
      "world\n"
     ]
    }
   ],
   "source": [
    "print(\"hello\\nworld\")"
   ]
  },
  {
   "cell_type": "code",
   "execution_count": 17,
   "id": "b879efac",
   "metadata": {},
   "outputs": [
    {
     "name": "stdout",
     "output_type": "stream",
     "text": [
      "hello\tworld\n"
     ]
    }
   ],
   "source": [
    "print(\"hello\\tworld\")"
   ]
  },
  {
   "cell_type": "code",
   "execution_count": 18,
   "id": "b7173c1d",
   "metadata": {},
   "outputs": [
    {
     "name": "stdout",
     "output_type": "stream",
     "text": [
      "hellohellohellohello\n"
     ]
    }
   ],
   "source": [
    "print(\"hello\"*4)"
   ]
  },
  {
   "cell_type": "code",
   "execution_count": 20,
   "id": "1068c783",
   "metadata": {},
   "outputs": [
    {
     "name": "stdout",
     "output_type": "stream",
     "text": [
      "Hello World\n"
     ]
    }
   ],
   "source": [
    "print(\"Hello\"+\" \"+\"World\")"
   ]
  },
  {
   "cell_type": "code",
   "execution_count": 22,
   "id": "1d985ffc",
   "metadata": {},
   "outputs": [
    {
     "name": "stdout",
     "output_type": "stream",
     "text": [
      "Hello World\n"
     ]
    }
   ],
   "source": [
    "print(\"Hello\",\"World\")            "
   ]
  },
  {
   "cell_type": "code",
   "execution_count": 23,
   "id": "8a026141",
   "metadata": {},
   "outputs": [
    {
     "name": "stdout",
     "output_type": "stream",
     "text": [
      "your age is : 25\n"
     ]
    }
   ],
   "source": [
    "yourage=25\n",
    "print(\"your age is :\",yourage)"
   ]
  },
  {
   "cell_type": "code",
   "execution_count": 36,
   "id": "0714b6c5",
   "metadata": {},
   "outputs": [
    {
     "name": "stdout",
     "output_type": "stream",
     "text": [
      "the numbers are :,5,6\n"
     ]
    }
   ],
   "source": [
    "a=5\n",
    "b=6\n",
    "print(\"the numbers are :\",a,b,sep=',')"
   ]
  },
  {
   "cell_type": "code",
   "execution_count": 37,
   "id": "10b7e601",
   "metadata": {},
   "outputs": [
    {
     "name": "stdout",
     "output_type": "stream",
     "text": [
      "My\n",
      "name\n",
      "is\n",
      "arun\n"
     ]
    }
   ],
   "source": [
    "print(\"My\")\n",
    "print(\"name\")\n",
    "print(\"is\")\n",
    "print(\"arun\")"
   ]
  },
  {
   "cell_type": "code",
   "execution_count": 39,
   "id": "ecb3e5ce",
   "metadata": {},
   "outputs": [
    {
     "name": "stdout",
     "output_type": "stream",
     "text": [
      "My name is arun"
     ]
    }
   ],
   "source": [
    "print(\"My\",end=' ')\n",
    "print(\"name\",end=' ')\n",
    "print(\"is\",end=' ')\n",
    "print(\"arun\",end='')"
   ]
  },
  {
   "cell_type": "code",
   "execution_count": 41,
   "id": "1bbc3325",
   "metadata": {},
   "outputs": [
    {
     "name": "stdout",
     "output_type": "stream",
     "text": [
      "Hi Arun Your score is 100 in maths\n"
     ]
    }
   ],
   "source": [
    "name=\"Arun\"\n",
    "marks=100\n",
    "print(\"Hi\",name,\"Your score is\",marks,\"in maths\")"
   ]
  },
  {
   "cell_type": "code",
   "execution_count": 50,
   "id": "2c747429",
   "metadata": {},
   "outputs": [
    {
     "name": "stdout",
     "output_type": "stream",
     "text": [
      "Hi 100.My maths score is ('Arun', 'rahul')\n"
     ]
    }
   ],
   "source": [
    "name1,name2=\"Arun\",\"rahul\"\n",
    "marks=100\n",
    "print(\"Hi {1}.My maths score is {0}\".format(name,marks))"
   ]
  },
  {
   "cell_type": "code",
   "execution_count": 51,
   "id": "ad522cd1",
   "metadata": {},
   "outputs": [
    {
     "name": "stdout",
     "output_type": "stream",
     "text": [
      "<class 'tuple'>\n"
     ]
    }
   ],
   "source": [
    "name2=\"Arun\",\"rahul\"\n",
    "print(type(name2))"
   ]
  },
  {
   "cell_type": "code",
   "execution_count": 52,
   "id": "e6ebe318",
   "metadata": {},
   "outputs": [
    {
     "name": "stdout",
     "output_type": "stream",
     "text": [
      "Arun\n",
      "rahul\n",
      "<class 'str'>\n",
      "<class 'str'>\n"
     ]
    }
   ],
   "source": [
    "name1,name2=\"Arun\",\"rahul\"\n",
    "print(name1)\n",
    "print(name2)\n",
    "print(type(name1))\n",
    "print(type(name2))"
   ]
  },
  {
   "cell_type": "code",
   "execution_count": null,
   "id": "294c04ea",
   "metadata": {},
   "outputs": [],
   "source": []
  }
 ],
 "metadata": {
  "kernelspec": {
   "display_name": "Python 3",
   "language": "python",
   "name": "python3"
  },
  "language_info": {
   "codemirror_mode": {
    "name": "ipython",
    "version": 3
   },
   "file_extension": ".py",
   "mimetype": "text/x-python",
   "name": "python",
   "nbconvert_exporter": "python",
   "pygments_lexer": "ipython3",
   "version": "3.8.8"
  }
 },
 "nbformat": 4,
 "nbformat_minor": 5
}
