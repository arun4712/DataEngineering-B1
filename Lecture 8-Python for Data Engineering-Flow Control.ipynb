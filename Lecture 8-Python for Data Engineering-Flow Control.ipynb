{
 "cells": [
  {
   "cell_type": "markdown",
   "id": "bbdf93ae",
   "metadata": {},
   "source": [
    "## Flow Control"
   ]
  },
  {
   "cell_type": "code",
   "execution_count": null,
   "id": "8e27e874",
   "metadata": {},
   "outputs": [],
   "source": [
    "#Conditional Statements->if,if-elif,if-elif-else,if-else\n",
    "#Transfer Statements->break,continue,pass\n",
    "#Iterative Statements->for,while"
   ]
  },
  {
   "cell_type": "code",
   "execution_count": null,
   "id": "2816298e",
   "metadata": {},
   "outputs": [],
   "source": [
    "#Conditional Statements\n",
    "#1)if condition\n",
    "\n",
    "name=input(\"Enter your name\")\n",
    "if name==\"arun\":\n",
    "print(\"my name is correct\")\n",
    "print(\"how is life\")    "
   ]
  },
  {
   "cell_type": "code",
   "execution_count": 1,
   "id": "0a1ffd6a",
   "metadata": {},
   "outputs": [
    {
     "ename": "IndentationError",
     "evalue": "expected an indented block (<ipython-input-1-010bd8adcf7c>, line 3)",
     "output_type": "error",
     "traceback": [
      "\u001b[1;36m  File \u001b[1;32m\"<ipython-input-1-010bd8adcf7c>\"\u001b[1;36m, line \u001b[1;32m3\u001b[0m\n\u001b[1;33m    print(\"my name is correct\")\u001b[0m\n\u001b[1;37m    ^\u001b[0m\n\u001b[1;31mIndentationError\u001b[0m\u001b[1;31m:\u001b[0m expected an indented block\n"
     ]
    }
   ],
   "source": [
    "name=input(\"Enter your name\")\n",
    "if name==\"arun\":\n",
    "    print(\"my name is correct\")\n",
    "print(\"how is life\") "
   ]
  },
  {
   "cell_type": "code",
   "execution_count": 1,
   "id": "38c33df8",
   "metadata": {},
   "outputs": [
    {
     "name": "stdout",
     "output_type": "stream",
     "text": [
      "Enter your name arun\n",
      "my name is correct\n",
      "how is life\n"
     ]
    }
   ],
   "source": [
    "name=input(\"Enter your name \")\n",
    "if name==\"arun\":\n",
    "    print(\"my name is correct\")\n",
    "print(\"how is life\") "
   ]
  },
  {
   "cell_type": "code",
   "execution_count": 2,
   "id": "006bd8a3",
   "metadata": {},
   "outputs": [
    {
     "name": "stdout",
     "output_type": "stream",
     "text": [
      "Enter your name arun\n",
      "my name is correct\n"
     ]
    }
   ],
   "source": [
    "#2)if-else condition\n",
    "name=input(\"Enter your name \")\n",
    "if name==\"arun\":\n",
    "    print(\"my name is correct\")\n",
    "else:\n",
    "    print(\"my name is not correct\")"
   ]
  },
  {
   "cell_type": "code",
   "execution_count": 1,
   "id": "59e4ca49",
   "metadata": {},
   "outputs": [
    {
     "name": "stdout",
     "output_type": "stream",
     "text": [
      "Enter your name amit\n",
      "my name is not correct\n"
     ]
    }
   ],
   "source": [
    "name=input(\"Enter your name \")\n",
    "if name==\"arun\":\n",
    "    print(\"my name is correct\")\n",
    "else:\n",
    "    print(\"my name is not correct\")"
   ]
  },
  {
   "cell_type": "code",
   "execution_count": 4,
   "id": "73f558ad",
   "metadata": {},
   "outputs": [
    {
     "name": "stdout",
     "output_type": "stream",
     "text": [
      "Enter your name pradeep\n",
      "my name is not correct\n"
     ]
    }
   ],
   "source": [
    "#2)if-elif-else condition\n",
    "name=input(\"Enter your name \")\n",
    "if name==\"arun\":\n",
    "    print(\"my name is correct\")\n",
    "elif name==\"anup\":\n",
    "    print(\"my name is correct\")\n",
    "elif name==\"nandini\":\n",
    "    print(\"my name is  correct\")\n",
    "else:\n",
    "    print(\"my name is not correct\")\n",
    "    "
   ]
  },
  {
   "cell_type": "code",
   "execution_count": null,
   "id": "e9289be0",
   "metadata": {},
   "outputs": [],
   "source": [
    "#possible combinations\n",
    "if\n",
    "if-else\n",
    "if-elif(multiple elif)-else\n",
    "if-elif"
   ]
  },
  {
   "cell_type": "code",
   "execution_count": 7,
   "id": "1cbcebbe",
   "metadata": {},
   "outputs": [
    {
     "name": "stdout",
     "output_type": "stream",
     "text": [
      "Enter your name amit\n"
     ]
    }
   ],
   "source": [
    "name=input(\"Enter your name \")\n",
    "if name==\"arun\":\n",
    "    print(\"my name arun is correct\")\n",
    "elif name==\"anup\":\n",
    "    print(\"my name anup is correct\")"
   ]
  },
  {
   "cell_type": "code",
   "execution_count": 9,
   "id": "32d9bd6f",
   "metadata": {},
   "outputs": [
    {
     "name": "stdout",
     "output_type": "stream",
     "text": [
      "enter 1st nummber4\n",
      "enter 2nd nummber9\n",
      "largest nummber is  9\n"
     ]
    }
   ],
   "source": [
    "#find the greatest of 2 numbers\n",
    "\n",
    "a=int(input(\"enter 1st nummber\"))\n",
    "b=int(input(\"enter 2nd nummber\"))\n",
    "if a>b:\n",
    "    print(\"largest nummber is \",a)\n",
    "else:\n",
    "    print(\"largest nummber is \",b)    "
   ]
  },
  {
   "cell_type": "code",
   "execution_count": 10,
   "id": "095c933a",
   "metadata": {},
   "outputs": [
    {
     "name": "stdout",
     "output_type": "stream",
     "text": [
      "enter 1st nummber5\n",
      "enter 2nd nummber7\n",
      "enter 3rd nummber1\n",
      "largest nummber is  7\n"
     ]
    }
   ],
   "source": [
    "#find the greatest of 3 numbers\n",
    "a=int(input(\"enter 1st nummber\"))\n",
    "b=int(input(\"enter 2nd nummber\"))\n",
    "c=int(input(\"enter 3rd nummber\"))\n",
    "## and or\n",
    "if a>b and a>c:\n",
    "    print(\"largest nummber is \",a)\n",
    "elif b>c:\n",
    "    print(\"largest nummber is \",b)\n",
    "else:\n",
    "    print(\"largest nummber is \",c)        "
   ]
  },
  {
   "cell_type": "code",
   "execution_count": 14,
   "id": "72eef2b8",
   "metadata": {},
   "outputs": [
    {
     "name": "stdout",
     "output_type": "stream",
     "text": [
      "p\n",
      "r\n",
      "a\n",
      "d\n",
      "e\n",
      "e\n",
      "p\n",
      " \n",
      "s\n",
      "i\n",
      "n\n",
      "g\n",
      "h\n"
     ]
    }
   ],
   "source": [
    "## Iterative Statements-for,while\n",
    "# for loop->if we wnat to interate over each element\n",
    "\n",
    "a=\"pradeep singh\"\n",
    "for i in a:\n",
    "    print(i)\n"
   ]
  },
  {
   "cell_type": "code",
   "execution_count": 12,
   "id": "f75b2494",
   "metadata": {},
   "outputs": [
    {
     "name": "stdout",
     "output_type": "stream",
     "text": [
      "pradeep singh\n"
     ]
    }
   ],
   "source": [
    "a=\"pradeep singh\"\n",
    "print(a)"
   ]
  },
  {
   "cell_type": "code",
   "execution_count": 15,
   "id": "f9408481",
   "metadata": {},
   "outputs": [
    {
     "name": "stdout",
     "output_type": "stream",
     "text": [
      "0\n",
      "1\n",
      "2\n",
      "3\n",
      "4\n",
      "5\n",
      "6\n",
      "7\n",
      "8\n",
      "9\n"
     ]
    }
   ],
   "source": [
    "for i in range(10):\n",
    "    print(i)\n",
    "    "
   ]
  },
  {
   "cell_type": "code",
   "execution_count": 16,
   "id": "4eff2f87",
   "metadata": {},
   "outputs": [
    {
     "name": "stdout",
     "output_type": "stream",
     "text": [
      "7\n",
      "2\n",
      "4\n",
      "5\n",
      "9\n",
      "arun\n",
      "sunil\n",
      "ashish\n"
     ]
    }
   ],
   "source": [
    "l1=[7,2,4,5,9,\"arun\",\"sunil\",\"ashish\"]\n",
    "for i in l1:\n",
    "    print(i)"
   ]
  },
  {
   "cell_type": "code",
   "execution_count": 25,
   "id": "c7edb029",
   "metadata": {},
   "outputs": [
    {
     "name": "stdout",
     "output_type": "stream",
     "text": [
      "1\n",
      "3\n",
      "5\n",
      "7\n",
      "9\n",
      "11\n",
      "13\n",
      "15\n",
      "17\n",
      "19\n"
     ]
    }
   ],
   "source": [
    "#to find the odd numbers between 0 to 20\n",
    "for i in range(21):\n",
    "    if(i%2!=0):\n",
    "        print(i)\n",
    "    \n"
   ]
  },
  {
   "cell_type": "code",
   "execution_count": 26,
   "id": "bacd30e5",
   "metadata": {},
   "outputs": [
    {
     "name": "stdout",
     "output_type": "stream",
     "text": [
      "1\n",
      "2\n",
      "3\n",
      "4\n",
      "5\n",
      "6\n",
      "7\n",
      "8\n",
      "9\n"
     ]
    }
   ],
   "source": [
    "#while loop->if we want to execute a group of statment until some false condotion is met\n",
    "x=1\n",
    "while(x<10):\n",
    "    print(x)\n",
    "    x=x+1"
   ]
  },
  {
   "cell_type": "code",
   "execution_count": 27,
   "id": "24578145",
   "metadata": {},
   "outputs": [
    {
     "name": "stdout",
     "output_type": "stream",
     "text": [
      "i= 0 j= 0\n",
      "i= 0 j= 1\n",
      "i= 0 j= 2\n",
      "i= 0 j= 3\n",
      "i= 1 j= 0\n",
      "i= 1 j= 1\n",
      "i= 1 j= 2\n",
      "i= 1 j= 3\n",
      "i= 2 j= 0\n",
      "i= 2 j= 1\n",
      "i= 2 j= 2\n",
      "i= 2 j= 3\n",
      "i= 3 j= 0\n",
      "i= 3 j= 1\n",
      "i= 3 j= 2\n",
      "i= 3 j= 3\n",
      "i= 4 j= 0\n",
      "i= 4 j= 1\n",
      "i= 4 j= 2\n",
      "i= 4 j= 3\n"
     ]
    }
   ],
   "source": [
    "#Nested loop\n",
    "\n",
    "for i in range(5):   #(0,1,2,3,4)\n",
    "    for j in range(4):  #(0,1,2,3)\n",
    "        print(\"i=\",i,\"j=\",j)"
   ]
  },
  {
   "cell_type": "code",
   "execution_count": null,
   "id": "d88bf6fb",
   "metadata": {},
   "outputs": [],
   "source": [
    "i=0 j=0\n",
    "i=0 j=1\n",
    "i=0 j=2\n",
    "i=0 j=3\n",
    "i=1 j=0\n",
    "i=1 j=1\n",
    "i=1 j=2\n",
    "i=1 j=3\n",
    "i=2 j=0"
   ]
  }
 ],
 "metadata": {
  "kernelspec": {
   "display_name": "Python 3",
   "language": "python",
   "name": "python3"
  },
  "language_info": {
   "codemirror_mode": {
    "name": "ipython",
    "version": 3
   },
   "file_extension": ".py",
   "mimetype": "text/x-python",
   "name": "python",
   "nbconvert_exporter": "python",
   "pygments_lexer": "ipython3",
   "version": "3.8.8"
  }
 },
 "nbformat": 4,
 "nbformat_minor": 5
}
