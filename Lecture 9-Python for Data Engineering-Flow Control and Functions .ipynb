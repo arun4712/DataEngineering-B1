{
 "cells": [
  {
   "cell_type": "markdown",
   "id": "d08ca8cf",
   "metadata": {},
   "source": [
    "## Transfer Statements->break,continue,pass"
   ]
  },
  {
   "cell_type": "code",
   "execution_count": 4,
   "id": "4be9680b",
   "metadata": {},
   "outputs": [
    {
     "name": "stdout",
     "output_type": "stream",
     "text": [
      "0\n",
      "1\n",
      "2\n",
      "3\n",
      "4\n",
      "5\n",
      "6\n",
      "7\n",
      "8\n",
      "9\n",
      "10\n",
      "11\n",
      "12\n",
      "13\n",
      "14\n",
      "15\n",
      "16\n",
      "17\n",
      "18\n",
      "19\n"
     ]
    }
   ],
   "source": [
    "#1.break\n",
    "\n",
    "for i in range(20):\n",
    "    print(i)"
   ]
  },
  {
   "cell_type": "code",
   "execution_count": 5,
   "id": "3d875897",
   "metadata": {},
   "outputs": [
    {
     "name": "stdout",
     "output_type": "stream",
     "text": [
      "0\n",
      "1\n",
      "2\n",
      "3\n",
      "4\n",
      "5\n",
      "6\n",
      "7\n",
      "8\n",
      "9\n",
      "10\n",
      "11\n",
      "12\n"
     ]
    }
   ],
   "source": [
    "for i in range(20):\n",
    "    if(i==13):\n",
    "            break\n",
    "    print(i)"
   ]
  },
  {
   "cell_type": "code",
   "execution_count": 7,
   "id": "11beb8df",
   "metadata": {},
   "outputs": [
    {
     "name": "stdout",
     "output_type": "stream",
     "text": [
      "0\n",
      "1\n",
      "2\n",
      "3\n",
      "4\n",
      "5\n",
      "6\n",
      "7\n",
      "8\n",
      "9\n"
     ]
    }
   ],
   "source": [
    "for i in range(10):\n",
    "       print(i) "
   ]
  },
  {
   "cell_type": "code",
   "execution_count": 11,
   "id": "d37f1315",
   "metadata": {},
   "outputs": [
    {
     "name": "stdout",
     "output_type": "stream",
     "text": [
      "0\n",
      "2\n",
      "4\n",
      "6\n",
      "8\n"
     ]
    }
   ],
   "source": [
    "#2.Continue-->to skip the current iteration and and continue next iteration\n",
    "\n",
    "for i in range(10):\n",
    "    if (i%2!=0):\n",
    "        continue\n",
    "    print(i)   \n"
   ]
  },
  {
   "cell_type": "code",
   "execution_count": 12,
   "id": "5f836a97",
   "metadata": {},
   "outputs": [
    {
     "name": "stdout",
     "output_type": "stream",
     "text": [
      "45\n",
      "23\n",
      "110\n",
      "120\n",
      "5\n"
     ]
    }
   ],
   "source": [
    "num=[45,23,110,120,5]\n",
    "\n",
    "for i in num:\n",
    "    print(i)"
   ]
  },
  {
   "cell_type": "code",
   "execution_count": 13,
   "id": "a206f316",
   "metadata": {},
   "outputs": [
    {
     "name": "stdout",
     "output_type": "stream",
     "text": [
      "45\n",
      "23\n",
      "5\n"
     ]
    }
   ],
   "source": [
    "num=[45,23,110,120,5]\n",
    "\n",
    "for i in num:\n",
    "    if (i>100):\n",
    "        continue\n",
    "    print(i)"
   ]
  },
  {
   "cell_type": "code",
   "execution_count": 14,
   "id": "07aecb65",
   "metadata": {},
   "outputs": [
    {
     "name": "stdout",
     "output_type": "stream",
     "text": [
      "45\n",
      "23\n"
     ]
    }
   ],
   "source": [
    "num=[45,23,110,120,5]\n",
    "\n",
    "for i in num:\n",
    "    if (i>100):\n",
    "        break\n",
    "    print(i)"
   ]
  },
  {
   "cell_type": "code",
   "execution_count": 16,
   "id": "ddcd6271",
   "metadata": {},
   "outputs": [
    {
     "name": "stdout",
     "output_type": "stream",
     "text": [
      "0\n",
      "number is not divisible by 5\n",
      "number is not divisible by 5\n",
      "number is not divisible by 5\n",
      "number is not divisible by 5\n",
      "5\n",
      "number is not divisible by 5\n",
      "number is not divisible by 5\n",
      "number is not divisible by 5\n",
      "number is not divisible by 5\n",
      "10\n",
      "number is not divisible by 5\n",
      "number is not divisible by 5\n",
      "number is not divisible by 5\n",
      "number is not divisible by 5\n",
      "15\n",
      "number is not divisible by 5\n",
      "number is not divisible by 5\n",
      "number is not divisible by 5\n",
      "number is not divisible by 5\n"
     ]
    }
   ],
   "source": [
    "#3.pass statement\n",
    "for i in range(20):\n",
    "    if(i%5==0):\n",
    "        print(i)\n",
    "    else:\n",
    "        print(\"number is not divisible by 5\")\n",
    "        "
   ]
  },
  {
   "cell_type": "code",
   "execution_count": 23,
   "id": "b2990719",
   "metadata": {},
   "outputs": [
    {
     "name": "stdout",
     "output_type": "stream",
     "text": [
      "0\n",
      "5\n",
      "10\n",
      "15\n"
     ]
    }
   ],
   "source": [
    "for i in range(20):\n",
    "    if(i%5==0):\n",
    "        print(i)\n",
    "    else:pass\n",
    "        "
   ]
  },
  {
   "cell_type": "code",
   "execution_count": null,
   "id": "90948f5b",
   "metadata": {},
   "outputs": [],
   "source": [
    "# break,continue and pass"
   ]
  },
  {
   "cell_type": "code",
   "execution_count": null,
   "id": "1184bb8a",
   "metadata": {},
   "outputs": [],
   "source": [
    "# del statments"
   ]
  },
  {
   "cell_type": "code",
   "execution_count": 25,
   "id": "ff4fb9f6",
   "metadata": {},
   "outputs": [
    {
     "ename": "NameError",
     "evalue": "name 's' is not defined",
     "output_type": "error",
     "traceback": [
      "\u001b[1;31m---------------------------------------------------------------------------\u001b[0m",
      "\u001b[1;31mNameError\u001b[0m                                 Traceback (most recent call last)",
      "\u001b[1;32m<ipython-input-25-c35909ec38bf>\u001b[0m in \u001b[0;36m<module>\u001b[1;34m\u001b[0m\n\u001b[0;32m      1\u001b[0m \u001b[0ms\u001b[0m\u001b[1;33m=\u001b[0m\u001b[1;34m\"rudra\"\u001b[0m\u001b[1;33m\u001b[0m\u001b[1;33m\u001b[0m\u001b[0m\n\u001b[0;32m      2\u001b[0m \u001b[1;32mdel\u001b[0m \u001b[0ms\u001b[0m\u001b[1;33m\u001b[0m\u001b[1;33m\u001b[0m\u001b[0m\n\u001b[1;32m----> 3\u001b[1;33m \u001b[0mprint\u001b[0m\u001b[1;33m(\u001b[0m\u001b[0ms\u001b[0m\u001b[1;33m)\u001b[0m\u001b[1;33m\u001b[0m\u001b[1;33m\u001b[0m\u001b[0m\n\u001b[0m",
      "\u001b[1;31mNameError\u001b[0m: name 's' is not defined"
     ]
    }
   ],
   "source": [
    "s=\"rudra\"\n",
    "del s\n",
    "print(s)"
   ]
  },
  {
   "cell_type": "markdown",
   "id": "42022721",
   "metadata": {},
   "source": [
    "##  Functions\n"
   ]
  },
  {
   "cell_type": "code",
   "execution_count": null,
   "id": "e16d3d9c",
   "metadata": {},
   "outputs": [],
   "source": []
  },
  {
   "cell_type": "code",
   "execution_count": null,
   "id": "ee31de54",
   "metadata": {},
   "outputs": [],
   "source": [
    "# inbuilt function\n",
    "#user defined functions"
   ]
  },
  {
   "cell_type": "code",
   "execution_count": 33,
   "id": "db26588f",
   "metadata": {},
   "outputs": [],
   "source": [
    "#user defined functions->def\n",
    "\n",
    "def addition(a,b):\n",
    "    sum=a+b\n",
    "    return sum   "
   ]
  },
  {
   "cell_type": "code",
   "execution_count": 28,
   "id": "fb20b6d2",
   "metadata": {},
   "outputs": [
    {
     "data": {
      "text/plain": [
       "10"
      ]
     },
     "execution_count": 28,
     "metadata": {},
     "output_type": "execute_result"
    }
   ],
   "source": [
    "addition(3,7)"
   ]
  },
  {
   "cell_type": "code",
   "execution_count": 34,
   "id": "e25d0fa3",
   "metadata": {},
   "outputs": [
    {
     "name": "stdout",
     "output_type": "stream",
     "text": [
      "10\n"
     ]
    }
   ],
   "source": [
    "result=addition(3,7)\n",
    "print(result)"
   ]
  },
  {
   "cell_type": "code",
   "execution_count": 35,
   "id": "9cd576ca",
   "metadata": {},
   "outputs": [],
   "source": [
    "def addition(a,b):\n",
    "    sum=a+b\n",
    "    return 1"
   ]
  },
  {
   "cell_type": "code",
   "execution_count": 36,
   "id": "827bbfd2",
   "metadata": {},
   "outputs": [
    {
     "name": "stdout",
     "output_type": "stream",
     "text": [
      "1\n"
     ]
    }
   ],
   "source": [
    "result=addition(3,7)\n",
    "print(result)"
   ]
  },
  {
   "cell_type": "code",
   "execution_count": 37,
   "id": "a6218c51",
   "metadata": {},
   "outputs": [],
   "source": [
    "def addition(a,b):\n",
    "    sum=a+b\n",
    "    print(sum) "
   ]
  },
  {
   "cell_type": "code",
   "execution_count": 38,
   "id": "8f797998",
   "metadata": {},
   "outputs": [
    {
     "name": "stdout",
     "output_type": "stream",
     "text": [
      "10\n"
     ]
    }
   ],
   "source": [
    "addition(3,7)"
   ]
  },
  {
   "cell_type": "code",
   "execution_count": 40,
   "id": "2bc30fcd",
   "metadata": {},
   "outputs": [
    {
     "name": "stdout",
     "output_type": "stream",
     "text": [
      "10\n",
      "None\n"
     ]
    }
   ],
   "source": [
    "result1=addition(3,7)\n",
    "print(result1)"
   ]
  },
  {
   "cell_type": "code",
   "execution_count": null,
   "id": "f4e43aa9",
   "metadata": {},
   "outputs": [],
   "source": [
    "## if we are not returning anything from a function then the return value by default is None."
   ]
  },
  {
   "cell_type": "code",
   "execution_count": 46,
   "id": "7d66b705",
   "metadata": {},
   "outputs": [],
   "source": [
    "def addition(a,b):\n",
    "    sum=a+b"
   ]
  },
  {
   "cell_type": "code",
   "execution_count": 48,
   "id": "b7e8945b",
   "metadata": {},
   "outputs": [
    {
     "name": "stdout",
     "output_type": "stream",
     "text": [
      "None\n"
     ]
    }
   ],
   "source": [
    "result2=addition(5,3)\n",
    "print(result2)"
   ]
  },
  {
   "cell_type": "code",
   "execution_count": 49,
   "id": "442bc54d",
   "metadata": {},
   "outputs": [],
   "source": [
    "def addition(a,b):\n",
    "    sum=a+b\n",
    "    return sum  "
   ]
  },
  {
   "cell_type": "code",
   "execution_count": 50,
   "id": "c9b5e588",
   "metadata": {},
   "outputs": [
    {
     "name": "stdout",
     "output_type": "stream",
     "text": [
      "10\n"
     ]
    }
   ],
   "source": [
    "result3=addition(3,7)\n",
    "print(result3)"
   ]
  },
  {
   "cell_type": "code",
   "execution_count": 51,
   "id": "471f0329",
   "metadata": {},
   "outputs": [
    {
     "name": "stdout",
     "output_type": "stream",
     "text": [
      "10\n"
     ]
    }
   ],
   "source": [
    "result3=addition(a=3,b=7)\n",
    "print(result3)"
   ]
  },
  {
   "cell_type": "code",
   "execution_count": 60,
   "id": "d3b3964b",
   "metadata": {},
   "outputs": [
    {
     "name": "stdout",
     "output_type": "stream",
     "text": [
      "a is : 7\n",
      "b is : 3\n",
      "10\n"
     ]
    }
   ],
   "source": [
    "result4=addition(b=3,a=7)\n",
    "print(result4)"
   ]
  },
  {
   "cell_type": "code",
   "execution_count": 55,
   "id": "af9b7982",
   "metadata": {},
   "outputs": [],
   "source": [
    "def addition(a,b):\n",
    "    print(\"a is :\",a)\n",
    "    print(\"b is :\",b)\n",
    "    sum=a+b\n",
    "    return sum "
   ]
  },
  {
   "cell_type": "code",
   "execution_count": 58,
   "id": "a632cdd6",
   "metadata": {},
   "outputs": [
    {
     "name": "stdout",
     "output_type": "stream",
     "text": [
      "a is : 7\n",
      "b is : 3\n",
      "10\n"
     ]
    }
   ],
   "source": [
    "result4=addition(b=3,a=7)\n",
    "print(result4)"
   ]
  },
  {
   "cell_type": "code",
   "execution_count": 59,
   "id": "b9c61a74",
   "metadata": {},
   "outputs": [
    {
     "ename": "TypeError",
     "evalue": "addition() got an unexpected keyword argument 'i'",
     "output_type": "error",
     "traceback": [
      "\u001b[1;31m---------------------------------------------------------------------------\u001b[0m",
      "\u001b[1;31mTypeError\u001b[0m                                 Traceback (most recent call last)",
      "\u001b[1;32m<ipython-input-59-2d53e53040cf>\u001b[0m in \u001b[0;36m<module>\u001b[1;34m\u001b[0m\n\u001b[1;32m----> 1\u001b[1;33m \u001b[0mresult5\u001b[0m\u001b[1;33m=\u001b[0m\u001b[0maddition\u001b[0m\u001b[1;33m(\u001b[0m\u001b[0mi\u001b[0m\u001b[1;33m=\u001b[0m\u001b[1;36m3\u001b[0m\u001b[1;33m,\u001b[0m\u001b[0mj\u001b[0m\u001b[1;33m=\u001b[0m\u001b[1;36m7\u001b[0m\u001b[1;33m)\u001b[0m\u001b[1;33m\u001b[0m\u001b[1;33m\u001b[0m\u001b[0m\n\u001b[0m\u001b[0;32m      2\u001b[0m \u001b[0mprint\u001b[0m\u001b[1;33m(\u001b[0m\u001b[0mresult5\u001b[0m\u001b[1;33m)\u001b[0m\u001b[1;33m\u001b[0m\u001b[1;33m\u001b[0m\u001b[0m\n",
      "\u001b[1;31mTypeError\u001b[0m: addition() got an unexpected keyword argument 'i'"
     ]
    }
   ],
   "source": [
    "result5=addition(i=3,j=7)\n",
    "print(result5)"
   ]
  },
  {
   "cell_type": "code",
   "execution_count": null,
   "id": "5656bf8f",
   "metadata": {},
   "outputs": [],
   "source": []
  }
 ],
 "metadata": {
  "kernelspec": {
   "display_name": "Python 3",
   "language": "python",
   "name": "python3"
  },
  "language_info": {
   "codemirror_mode": {
    "name": "ipython",
    "version": 3
   },
   "file_extension": ".py",
   "mimetype": "text/x-python",
   "name": "python",
   "nbconvert_exporter": "python",
   "pygments_lexer": "ipython3",
   "version": "3.8.8"
  }
 },
 "nbformat": 4,
 "nbformat_minor": 5
}
